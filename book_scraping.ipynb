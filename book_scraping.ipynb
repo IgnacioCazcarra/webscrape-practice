{
 "cells": [
  {
   "cell_type": "code",
   "execution_count": 240,
   "metadata": {},
   "outputs": [],
   "source": [
    "import requests\n",
    "from bs4 import BeautifulSoup  \n",
    "import concurrent.futures\n",
    "import re\n",
    "import pandas as pd"
   ]
  },
  {
   "cell_type": "code",
   "execution_count": 241,
   "metadata": {},
   "outputs": [],
   "source": [
    "books_info = []"
   ]
  },
  {
   "cell_type": "code",
   "execution_count": 242,
   "metadata": {},
   "outputs": [],
   "source": [
    "def get_URL(total_pages):\n",
    "    main_url = \"http://books.toscrape.com/catalogue/page-\"\n",
    "    links = [ main_url+\"{}.html\".format(n) for n in range(1,total_pages+1)]\n",
    "    return links"
   ]
  },
  {
   "cell_type": "code",
   "execution_count": 243,
   "metadata": {},
   "outputs": [],
   "source": [
    "def scrape_page(URL):\n",
    "    r = requests.get(URL)\n",
    "    soup = BeautifulSoup(r.content)\n",
    "    \n",
    "    prices = soup.find_all(\"p\", attrs={'class':'price_color'})\n",
    "    stock_availability = soup.find_all(\"p\", attrs={'class':'availability'})\n",
    "    titles = soup.find_all('h3')\n",
    "    ratings = soup.find_all('p', attrs={'class': re.compile('star-rating')})\n",
    "    \n",
    "    for n in range(0,len(prices)):\n",
    "        row = {'title': titles[n].text,\n",
    "            'price': price[n].string,\n",
    "            'stock': stock_availability[n].text,\n",
    "            'rating': ratings[n]['class'][1]\n",
    "          }\n",
    "        books_info.append(row)"
   ]
  },
  {
   "cell_type": "code",
   "execution_count": 244,
   "metadata": {},
   "outputs": [],
   "source": [
    "def scrape_all(total_pages):\n",
    "    \n",
    "    links = get_URL(total_pages)\n",
    "    \n",
    "    with concurrent.futures.ThreadPoolExecutor(max_workers=total_pages) as executor:\n",
    "        executor.map(scrape_page, links)"
   ]
  },
  {
   "cell_type": "code",
   "execution_count": 245,
   "metadata": {},
   "outputs": [],
   "source": [
    "total_pages = 50\n",
    "\n",
    "scrape_all(total_pages)\n",
    "\n",
    "books_df = pd.DataFrame(books_info, columns = ['title','price','stock','rating'])"
   ]
  },
  {
   "cell_type": "code",
   "execution_count": 246,
   "metadata": {},
   "outputs": [
    {
     "data": {
      "text/html": [
       "<div>\n",
       "<style scoped>\n",
       "    .dataframe tbody tr th:only-of-type {\n",
       "        vertical-align: middle;\n",
       "    }\n",
       "\n",
       "    .dataframe tbody tr th {\n",
       "        vertical-align: top;\n",
       "    }\n",
       "\n",
       "    .dataframe thead th {\n",
       "        text-align: right;\n",
       "    }\n",
       "</style>\n",
       "<table border=\"1\" class=\"dataframe\">\n",
       "  <thead>\n",
       "    <tr style=\"text-align: right;\">\n",
       "      <th></th>\n",
       "      <th>title</th>\n",
       "      <th>price</th>\n",
       "      <th>stock</th>\n",
       "      <th>rating</th>\n",
       "    </tr>\n",
       "  </thead>\n",
       "  <tbody>\n",
       "    <tr>\n",
       "      <th>0</th>\n",
       "      <td>Immunity: How Elie Metchnikoff ...</td>\n",
       "      <td>£51.77</td>\n",
       "      <td>\\n\\n    \\n        In stock\\n    \\n</td>\n",
       "      <td>Five</td>\n",
       "    </tr>\n",
       "    <tr>\n",
       "      <th>1</th>\n",
       "      <td>I Hate Fairyland, Vol. ...</td>\n",
       "      <td>£53.74</td>\n",
       "      <td>\\n\\n    \\n        In stock\\n    \\n</td>\n",
       "      <td>Two</td>\n",
       "    </tr>\n",
       "    <tr>\n",
       "      <th>2</th>\n",
       "      <td>I am a Hero ...</td>\n",
       "      <td>£50.10</td>\n",
       "      <td>\\n\\n    \\n        In stock\\n    \\n</td>\n",
       "      <td>Three</td>\n",
       "    </tr>\n",
       "    <tr>\n",
       "      <th>3</th>\n",
       "      <td>How to Be Miserable: ...</td>\n",
       "      <td>£47.82</td>\n",
       "      <td>\\n\\n    \\n        In stock\\n    \\n</td>\n",
       "      <td>One</td>\n",
       "    </tr>\n",
       "    <tr>\n",
       "      <th>4</th>\n",
       "      <td>Her Backup Boyfriend (The ...</td>\n",
       "      <td>£54.23</td>\n",
       "      <td>\\n\\n    \\n        In stock\\n    \\n</td>\n",
       "      <td>One</td>\n",
       "    </tr>\n",
       "  </tbody>\n",
       "</table>\n",
       "</div>"
      ],
      "text/plain": [
       "                                title   price  \\\n",
       "0  Immunity: How Elie Metchnikoff ...  £51.77   \n",
       "1          I Hate Fairyland, Vol. ...  £53.74   \n",
       "2                     I am a Hero ...  £50.10   \n",
       "3            How to Be Miserable: ...  £47.82   \n",
       "4       Her Backup Boyfriend (The ...  £54.23   \n",
       "\n",
       "                                stock rating  \n",
       "0  \\n\\n    \\n        In stock\\n    \\n   Five  \n",
       "1  \\n\\n    \\n        In stock\\n    \\n    Two  \n",
       "2  \\n\\n    \\n        In stock\\n    \\n  Three  \n",
       "3  \\n\\n    \\n        In stock\\n    \\n    One  \n",
       "4  \\n\\n    \\n        In stock\\n    \\n    One  "
      ]
     },
     "execution_count": 246,
     "metadata": {},
     "output_type": "execute_result"
    }
   ],
   "source": [
    "books_df.head()"
   ]
  },
  {
   "cell_type": "code",
   "execution_count": 247,
   "metadata": {},
   "outputs": [],
   "source": [
    "#Corregimos algunos aspectos del dataset\n",
    "def get_price(row):\n",
    "    return row['price'][1:]\n",
    "\n",
    "def get_stock(row):\n",
    "    stock_words = row['stock'].split()\n",
    "    return \" \".join(stock_words)\n",
    "\n",
    "books_df['price'] = books_df.apply(lambda x : get_price(x), axis=1)\n",
    "\n",
    "books_df['stock'] = books_df.apply(lambda x : get_stock(x), axis=1)"
   ]
  },
  {
   "cell_type": "code",
   "execution_count": 248,
   "metadata": {},
   "outputs": [
    {
     "data": {
      "text/html": [
       "<div>\n",
       "<style scoped>\n",
       "    .dataframe tbody tr th:only-of-type {\n",
       "        vertical-align: middle;\n",
       "    }\n",
       "\n",
       "    .dataframe tbody tr th {\n",
       "        vertical-align: top;\n",
       "    }\n",
       "\n",
       "    .dataframe thead th {\n",
       "        text-align: right;\n",
       "    }\n",
       "</style>\n",
       "<table border=\"1\" class=\"dataframe\">\n",
       "  <thead>\n",
       "    <tr style=\"text-align: right;\">\n",
       "      <th></th>\n",
       "      <th>title</th>\n",
       "      <th>price</th>\n",
       "      <th>stock</th>\n",
       "      <th>rating</th>\n",
       "    </tr>\n",
       "  </thead>\n",
       "  <tbody>\n",
       "    <tr>\n",
       "      <th>0</th>\n",
       "      <td>Immunity: How Elie Metchnikoff ...</td>\n",
       "      <td>51.77</td>\n",
       "      <td>In stock</td>\n",
       "      <td>Five</td>\n",
       "    </tr>\n",
       "    <tr>\n",
       "      <th>1</th>\n",
       "      <td>I Hate Fairyland, Vol. ...</td>\n",
       "      <td>53.74</td>\n",
       "      <td>In stock</td>\n",
       "      <td>Two</td>\n",
       "    </tr>\n",
       "    <tr>\n",
       "      <th>2</th>\n",
       "      <td>I am a Hero ...</td>\n",
       "      <td>50.10</td>\n",
       "      <td>In stock</td>\n",
       "      <td>Three</td>\n",
       "    </tr>\n",
       "    <tr>\n",
       "      <th>3</th>\n",
       "      <td>How to Be Miserable: ...</td>\n",
       "      <td>47.82</td>\n",
       "      <td>In stock</td>\n",
       "      <td>One</td>\n",
       "    </tr>\n",
       "    <tr>\n",
       "      <th>4</th>\n",
       "      <td>Her Backup Boyfriend (The ...</td>\n",
       "      <td>54.23</td>\n",
       "      <td>In stock</td>\n",
       "      <td>One</td>\n",
       "    </tr>\n",
       "  </tbody>\n",
       "</table>\n",
       "</div>"
      ],
      "text/plain": [
       "                                title  price     stock rating\n",
       "0  Immunity: How Elie Metchnikoff ...  51.77  In stock   Five\n",
       "1          I Hate Fairyland, Vol. ...  53.74  In stock    Two\n",
       "2                     I am a Hero ...  50.10  In stock  Three\n",
       "3            How to Be Miserable: ...  47.82  In stock    One\n",
       "4       Her Backup Boyfriend (The ...  54.23  In stock    One"
      ]
     },
     "execution_count": 248,
     "metadata": {},
     "output_type": "execute_result"
    }
   ],
   "source": [
    "books_df.head()"
   ]
  }
 ],
 "metadata": {
  "kernelspec": {
   "display_name": "Python 3",
   "language": "python",
   "name": "python3"
  },
  "language_info": {
   "codemirror_mode": {
    "name": "ipython",
    "version": 3
   },
   "file_extension": ".py",
   "mimetype": "text/x-python",
   "name": "python",
   "nbconvert_exporter": "python",
   "pygments_lexer": "ipython3",
   "version": "3.8.3"
  }
 },
 "nbformat": 4,
 "nbformat_minor": 4
}
